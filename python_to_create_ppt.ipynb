{
  "nbformat": 4,
  "nbformat_minor": 0,
  "metadata": {
    "colab": {
      "provenance": []
    },
    "kernelspec": {
      "name": "python3",
      "display_name": "Python 3"
    },
    "language_info": {
      "name": "python"
    }
  },
  "cells": [
    {
      "cell_type": "code",
      "execution_count": 4,
      "metadata": {
        "colab": {
          "base_uri": "https://localhost:8080/"
        },
        "id": "TKbhkaPBSEXH",
        "outputId": "72aea088-94bf-4f59-8569-951580f786d6"
      },
      "outputs": [
        {
          "output_type": "stream",
          "name": "stdout",
          "text": [
            "Collecting python-pptx\n",
            "  Downloading python_pptx-0.6.23-py3-none-any.whl (471 kB)\n",
            "\u001b[2K     \u001b[90m━━━━━━━━━━━━━━━━━━━━━━━━━━━━━━━━━━━━━━━━\u001b[0m \u001b[32m471.6/471.6 kB\u001b[0m \u001b[31m3.1 MB/s\u001b[0m eta \u001b[36m0:00:00\u001b[0m\n",
            "\u001b[?25hRequirement already satisfied: lxml>=3.1.0 in /usr/local/lib/python3.10/dist-packages (from python-pptx) (4.9.4)\n",
            "Requirement already satisfied: Pillow>=3.3.2 in /usr/local/lib/python3.10/dist-packages (from python-pptx) (9.4.0)\n",
            "Collecting XlsxWriter>=0.5.7 (from python-pptx)\n",
            "  Downloading XlsxWriter-3.2.0-py3-none-any.whl (159 kB)\n",
            "\u001b[2K     \u001b[90m━━━━━━━━━━━━━━━━━━━━━━━━━━━━━━━━━━━━━━━━\u001b[0m \u001b[32m159.9/159.9 kB\u001b[0m \u001b[31m16.8 MB/s\u001b[0m eta \u001b[36m0:00:00\u001b[0m\n",
            "\u001b[?25hInstalling collected packages: XlsxWriter, python-pptx\n",
            "Successfully installed XlsxWriter-3.2.0 python-pptx-0.6.23\n"
          ]
        }
      ],
      "source": [
        "pip install python-pptx"
      ]
    },
    {
      "cell_type": "code",
      "source": [
        "from pptx import Presentation\n",
        "from pptx.util import Inches\n",
        "\n",
        "# Create a PowerPoint presentation object\n",
        "prs = Presentation()\n",
        "\n",
        "# Slide 1: Title Slide\n",
        "slide_title = prs.slides.add_slide(prs.slide_layouts[0])\n",
        "title = slide_title.shapes.title\n",
        "subtitle = slide_title.placeholders[1]\n",
        "\n",
        "title.text = \" Analysis \"\n",
        "subtitle.text = \"\"\n",
        "\n",
        "# Slide 2: Introduction to Business Use Case\n",
        "slide_introduction = prs.slides.add_slide(prs.slide_layouts[1])\n",
        "title, content = slide_introduction.shapes.title, slide_introduction.placeholders[1]\n",
        "\n",
        "title.text = \"Business Use Case Overview\"\n",
        "content.text = \".\"\n",
        "\n",
        "# Slide 3: Technical Solution Overview\n",
        "slide_technical_solution = prs.slides.add_slide(prs.slide_layouts[1])\n",
        "title, content = slide_technical_solution.shapes.title, slide_technical_solution.placeholders[1]\n",
        "\n",
        "title.text = \"Technical Solution Overview\"\n",
        "content.text = \"\"\n",
        "\n",
        "# Slide 4: Detailed Process Flow\n",
        "slide_process_flow = prs.slides.add_slide(prs.slide_layouts[5])\n",
        "title = slide_process_flow.shapes.title\n",
        "title.text = \"Process Flow Diagram\"\n",
        "# Note: In practice, you would insert an actual flow diagram image here if available\n",
        "\n",
        "# Slide 5: Potential Challenges and Solutions\n",
        "slide_challenges = prs.slides.add_slide(prs.slide_layouts[1])\n",
        "title, content = slide_challenges.shapes.title, slide_challenges.placeholders[1]\n",
        "\n",
        "title.text = \"Potential Challenges and Solutions\"\n",
        "content.text = \"\"\n",
        "\n",
        "# Slide 6: Testing Results and Analysis\n",
        "slide_testing_results = prs.slides.add_slide(prs.slide_layouts[1])\n",
        "title, content = slide_testing_results.shapes.title, slide_testing_results.placeholders[1]\n",
        "\n",
        "title.text = \"Testing Results - Case Study\"\n",
        "content.text = \"\"\n",
        "\n",
        "# Slide 7: Cost Analysis\n",
        "slide_cost_analysis = prs.slides.add_slide(prs.slide_layouts[1])\n",
        "title, content = slide_cost_analysis.shapes.title, slide_cost_analysis.placeholders[1]\n",
        "\n",
        "title.text = \"Cost Analysis\"\n",
        "content.text = \"Breakdown of costs for processing different audio lengths, including token costs and transcription times.\"\n",
        "\n",
        "# Slide 8: Pros, Cons, and Benefits\n",
        "slide_pros_cons = prs.slides.add_slide(prs.slide_layouts[1])\n",
        "title, content = slide_pros_cons.shapes.title, slide_pros_cons.placeholders[1]\n",
        "\n",
        "title.text = \"Advantages and Areas for Improvement\"\n",
        "content.text = \"Pros: Low inference time, accuracy of GPT-4 analysis. Cons: Token length exceed error.\"\n",
        "\n",
        "# Slide 9: Conclusion\n",
        "slide_conclusion = prs.slides.add_slide(prs.slide_layouts[1])\n",
        "title, content = slide_conclusion.shapes.title, slide_conclusion.placeholders[1]\n",
        "\n",
        "title.text = \"Conclusion and Future Directions\"\n",
        "content.text = \"Benefits of the proposed solution and potential areas for further research or improvement.\"\n",
        "\n",
        "# Slide 10: Q&A\n",
        "slide_qa = prs.slides.add_slide(prs.slide_layouts[1])\n",
        "title = slide_qa.shapes.title\n",
        "title.text = \"Questions & Answers\"\n",
        "\n",
        "# Save the presentation\n",
        "pptx_file = \"./Presentation.pptx\"\n",
        "prs.save(pptx_file)\n",
        "\n",
        "pptx_file\n"
      ],
      "metadata": {
        "colab": {
          "base_uri": "https://localhost:8080/",
          "height": 35
        },
        "id": "JrAAN9GtSE20",
        "outputId": "32c548ba-e21a-4b6d-a852-325e90cdeb30"
      },
      "execution_count": 5,
      "outputs": [
        {
          "output_type": "execute_result",
          "data": {
            "text/plain": [
              "'./Audio_Analysis_Call_Center_Improvement_Presentation.pptx'"
            ],
            "application/vnd.google.colaboratory.intrinsic+json": {
              "type": "string"
            }
          },
          "metadata": {},
          "execution_count": 5
        }
      ]
    },
    {
      "cell_type": "code",
      "source": [],
      "metadata": {
        "id": "fXPQ_ldcSFfa"
      },
      "execution_count": null,
      "outputs": []
    }
  ]
}